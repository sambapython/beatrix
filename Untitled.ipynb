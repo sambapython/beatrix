{
 "cells": [
  {
   "cell_type": "code",
   "execution_count": 1,
   "id": "c84e6285",
   "metadata": {},
   "outputs": [
    {
     "name": "stdout",
     "output_type": "stream",
     "text": [
      "  brand  mileage\n",
      "0  TATA       20\n",
      "1  TATA       30\n"
     ]
    }
   ],
   "source": [
    "import pandas as pd\n",
    "data = [{\"brand\":\"TATA\", \"mileage\":20}, {\"brand\":\"TATA\", \"mileage\":30}]\n",
    "df = pd.DataFrame(data)\n",
    "print(df)"
   ]
  },
  {
   "cell_type": "code",
   "execution_count": 2,
   "id": "81aff374",
   "metadata": {},
   "outputs": [
    {
     "name": "stdout",
     "output_type": "stream",
     "text": [
      "  brand   mileage\n",
      "0  TATA  [20, 30]\n"
     ]
    }
   ],
   "source": [
    "import pandas as pd\n",
    "data = [{\"brand\":\"TATA\", \"mileage\":[20,30]}]\n",
    "df = pd.DataFrame(data)\n",
    "print(df)"
   ]
  },
  {
   "cell_type": "code",
   "execution_count": null,
   "id": "a4be6319",
   "metadata": {},
   "outputs": [],
   "source": []
  }
 ],
 "metadata": {
  "kernelspec": {
   "display_name": "Python 3 (ipykernel)",
   "language": "python",
   "name": "python3"
  },
  "language_info": {
   "codemirror_mode": {
    "name": "ipython",
    "version": 3
   },
   "file_extension": ".py",
   "mimetype": "text/x-python",
   "name": "python",
   "nbconvert_exporter": "python",
   "pygments_lexer": "ipython3",
   "version": "3.11.3"
  }
 },
 "nbformat": 4,
 "nbformat_minor": 5
}
