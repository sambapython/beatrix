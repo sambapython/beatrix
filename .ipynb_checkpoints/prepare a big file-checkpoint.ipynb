{
 "cells": [
  {
   "cell_type": "code",
   "execution_count": 6,
   "id": "4917b211",
   "metadata": {},
   "outputs": [
    {
     "name": "stdout",
     "output_type": "stream",
     "text": [
      "0,Jill Rodriguez,Supply Chain Management,213339\n",
      "1,Makayla Craig,Marketing,1934442\n",
      "2,Henry Key,Event Planning,1017055\n",
      "3,Daniel Phillips,Information Technology (IT),2100203\n",
      "4,Richard Molina,Project Management,139293\n",
      "5,Eric Floyd,Facilities Management,1866586\n",
      "6,Kevin Schmidt,Data Analytics,931875\n",
      "7,Adam Watkins,Creative Services,791001\n",
      "8,Steven Brown,Administration,1282394\n",
      "9,Sherry Thomas,Corporate Communications,2861721\n"
     ]
    }
   ],
   "source": [
    "from constants import departments\n",
    "from faker import Faker\n",
    "import random\n",
    "fak = Faker()\n",
    "for i in range(10):\n",
    "    row = f\"{i},{fak.name()},{random.choice(departments)},{random.randint(100000,3000000)}\"\n",
    "    print(row)"
   ]
  },
  {
   "cell_type": "code",
   "execution_count": 3,
   "id": "c6281203",
   "metadata": {},
   "outputs": [],
   "source": [
    "from faker import Faker\n",
    "fak = Faker()"
   ]
  },
  {
   "cell_type": "code",
   "execution_count": 4,
   "id": "12f9b7f9",
   "metadata": {},
   "outputs": [
    {
     "name": "stdout",
     "output_type": "stream",
     "text": [
      "['__annotations__', '__class__', '__deepcopy__', '__delattr__', '__dict__', '__dir__', '__doc__', '__eq__', '__format__', '__ge__', '__getattr__', '__getattribute__', '__getitem__', '__getstate__', '__gt__', '__hash__', '__init__', '__init_subclass__', '__le__', '__lt__', '__module__', '__ne__', '__new__', '__reduce__', '__reduce_ex__', '__repr__', '__setattr__', '__setstate__', '__sizeof__', '__str__', '__subclasshook__', '__weakref__', '_factories', '_factory_map', '_locales', '_map_provider_method', '_select_factory', '_select_factory_choice', '_select_factory_distribution', '_unique_proxy', '_weights', 'aba', 'add_provider', 'address', 'administrative_unit', 'am_pm', 'android_platform_token', 'ascii_company_email', 'ascii_email', 'ascii_free_email', 'ascii_safe_email', 'bank_country', 'basic_phone_number', 'bban', 'binary', 'boolean', 'bothify', 'bs', 'building_number', 'cache_pattern', 'catch_phrase', 'century', 'chrome', 'city', 'city_prefix', 'city_suffix', 'color', 'color_name', 'company', 'company_email', 'company_suffix', 'coordinate', 'country', 'country_calling_code', 'country_code', 'credit_card_expire', 'credit_card_full', 'credit_card_number', 'credit_card_provider', 'credit_card_security_code', 'cryptocurrency', 'cryptocurrency_code', 'cryptocurrency_name', 'csv', 'currency', 'currency_code', 'currency_name', 'currency_symbol', 'current_country', 'current_country_code', 'date', 'date_between', 'date_between_dates', 'date_object', 'date_of_birth', 'date_this_century', 'date_this_decade', 'date_this_month', 'date_this_year', 'date_time', 'date_time_ad', 'date_time_between', 'date_time_between_dates', 'date_time_this_century', 'date_time_this_decade', 'date_time_this_month', 'date_time_this_year', 'day_of_month', 'day_of_week', 'del_arguments', 'dga', 'domain_name', 'domain_word', 'dsv', 'ean', 'ean13', 'ean8', 'ein', 'email', 'emoji', 'enum', 'factories', 'file_extension', 'file_name', 'file_path', 'firefox', 'first_name', 'first_name_female', 'first_name_male', 'first_name_nonbinary', 'fixed_width', 'format', 'free_email', 'free_email_domain', 'future_date', 'future_datetime', 'generator_attrs', 'get_arguments', 'get_formatter', 'get_providers', 'hex_color', 'hexify', 'hostname', 'http_method', 'iana_id', 'iban', 'image', 'image_url', 'internet_explorer', 'invalid_ssn', 'ios_platform_token', 'ipv4', 'ipv4_network_class', 'ipv4_private', 'ipv4_public', 'ipv6', 'isbn10', 'isbn13', 'iso8601', 'items', 'itin', 'job', 'json', 'json_bytes', 'language_code', 'language_name', 'last_name', 'last_name_female', 'last_name_male', 'last_name_nonbinary', 'latitude', 'latlng', 'lexify', 'license_plate', 'linux_platform_token', 'linux_processor', 'local_latlng', 'locale', 'locales', 'localized_ean', 'localized_ean13', 'localized_ean8', 'location_on_land', 'longitude', 'mac_address', 'mac_platform_token', 'mac_processor', 'md5', 'military_apo', 'military_dpo', 'military_ship', 'military_state', 'mime_type', 'month', 'month_name', 'msisdn', 'name', 'name_female', 'name_male', 'name_nonbinary', 'nic_handle', 'nic_handles', 'null_boolean', 'numerify', 'opera', 'paragraph', 'paragraphs', 'parse', 'password', 'past_date', 'past_datetime', 'phone_number', 'port_number', 'postalcode', 'postalcode_in_state', 'postalcode_plus4', 'postcode', 'postcode_in_state', 'prefix', 'prefix_female', 'prefix_male', 'prefix_nonbinary', 'pricetag', 'profile', 'provider', 'providers', 'psv', 'pybool', 'pydecimal', 'pydict', 'pyfloat', 'pyint', 'pyiterable', 'pylist', 'pyobject', 'pyset', 'pystr', 'pystr_format', 'pystruct', 'pytimezone', 'pytuple', 'random', 'random_choices', 'random_digit', 'random_digit_not_null', 'random_digit_not_null_or_empty', 'random_digit_or_empty', 'random_element', 'random_elements', 'random_int', 'random_letter', 'random_letters', 'random_lowercase_letter', 'random_number', 'random_sample', 'random_uppercase_letter', 'randomize_nb_elements', 'rgb_color', 'rgb_css_color', 'ripe_id', 'safari', 'safe_color_name', 'safe_domain_name', 'safe_email', 'safe_hex_color', 'sbn9', 'secondary_address', 'seed', 'seed_instance', 'seed_locale', 'sentence', 'sentences', 'set_arguments', 'set_formatter', 'sha1', 'sha256', 'simple_profile', 'slug', 'ssn', 'state', 'state_abbr', 'street_address', 'street_name', 'street_suffix', 'suffix', 'suffix_female', 'suffix_male', 'suffix_nonbinary', 'swift', 'swift11', 'swift8', 'tar', 'text', 'texts', 'time', 'time_delta', 'time_object', 'time_series', 'timezone', 'tld', 'tsv', 'unique', 'unix_device', 'unix_partition', 'unix_time', 'upc_a', 'upc_e', 'uri', 'uri_extension', 'uri_page', 'uri_path', 'url', 'user_agent', 'user_name', 'uuid4', 'weights', 'windows_platform_token', 'word', 'words', 'xml', 'year', 'zip', 'zipcode', 'zipcode_in_state', 'zipcode_plus4']\n"
     ]
    }
   ],
   "source": [
    "print(dir(fak))"
   ]
  },
  {
   "cell_type": "code",
   "execution_count": 7,
   "id": "6e61ec47",
   "metadata": {},
   "outputs": [
    {
     "name": "stdout",
     "output_type": "stream",
     "text": [
      "0,Brandon Glenn,Human Resources (HR),2749144\n",
      "1,Shane Hanson,Research and Development (R&D),263149\n",
      "2,Christopher Butler,Supply Chain Management,698894\n",
      "3,Donna Mills MD,Training and Development,509699\n",
      "4,Michael Clay,Administration,2817385\n",
      "5,Julie Reed,Facilities Management,1275327\n",
      "6,Charles Carson,Corporate Communications,973155\n",
      "7,Jason Mason,Public Relations (PR),1187918\n",
      "8,Laura Lucas,Customer Service,2386799\n",
      "9,Kiara Proctor,Research and Development (R&D),957186\n"
     ]
    },
    {
     "ename": "NameError",
     "evalue": "name 'f' is not defined",
     "output_type": "error",
     "traceback": [
      "\u001b[1;31m---------------------------------------------------------------------------\u001b[0m",
      "\u001b[1;31mNameError\u001b[0m                                 Traceback (most recent call last)",
      "Cell \u001b[1;32mIn[7], line 15\u001b[0m\n\u001b[0;32m     13\u001b[0m     \u001b[38;5;28mprint\u001b[39m(err)\n\u001b[0;32m     14\u001b[0m \u001b[38;5;28;01mfinally\u001b[39;00m:\n\u001b[1;32m---> 15\u001b[0m     f\u001b[38;5;241m.\u001b[39mclose()\n",
      "\u001b[1;31mNameError\u001b[0m: name 'f' is not defined"
     ]
    }
   ],
   "source": [
    "\"2015-2024 consider that we have 2000\"\n",
    "from constants import departments\n",
    "from faker import Faker\n",
    "import random\n",
    "fak = Faker()\n",
    "\n",
    "def save_data_in_file(f,emp_id):\n",
    "    row = f\"{i},{fak.name()},{random.choice(departments)},{random.randint(100000,3000000)}\"\n",
    "    f.write(row)\n",
    "    f.flush()\n",
    "\n",
    "try:\n",
    "    f=open(\"data.csv\",\"w\")\n",
    "    for i in range(10):\n",
    "        \n",
    "        print(row)\n",
    "except Exception as err:\n",
    "    print(err)\n",
    "finally:\n",
    "    f.close()"
   ]
  },
  {
   "cell_type": "code",
   "execution_count": null,
   "id": "cfeb9fe2",
   "metadata": {},
   "outputs": [],
   "source": [
    "#\"2015-2024 consider that we have 2000\"\n",
    "from constants import departments\n",
    "from faker import Faker\n",
    "import random\n",
    "import pandas as pd\n",
    "df = pd.read_csv('departments.csv')\n",
    "fak = Faker()\n",
    "\n",
    "def save_data_in_file(f,emp_id):\n",
    "    row = f\"{i},{fak.name()},{random.choice(departments)}\"\n",
    "    f.write(row)\n",
    "    f.flush()\n",
    "\n",
    "try:\n",
    "    f=open(\"data.csv\",\"w\")\n",
    "    for i in range(10):\n",
    "        \n",
    "        print(row)\n",
    "except Exception as err:\n",
    "    print(err)\n",
    "finally:\n",
    "    f.close()"
   ]
  },
  {
   "cell_type": "code",
   "execution_count": 12,
   "id": "58ff530b",
   "metadata": {},
   "outputs": [
    {
     "name": "stdout",
     "output_type": "stream",
     "text": [
      "[ 1  2  3  4  5  6  7  8  9 10 11 12 13 14 15 16 17 18 19 20 21 22 23 24\n",
      " 25 26 27 28 29 30]\n"
     ]
    }
   ],
   "source": [
    "import pandas as pd\n",
    "def get_department_ids():\n",
    "    df = pd.read_csv('departments.csv')\n",
    "    return df.id.values\n",
    "get_department_ids()"
   ]
  },
  {
   "cell_type": "code",
   "execution_count": 14,
   "id": "98790d19",
   "metadata": {},
   "outputs": [
    {
     "name": "stdout",
     "output_type": "stream",
     "text": [
      "7\n",
      "22\n",
      "5\n",
      "17\n",
      "17\n",
      "9\n",
      "12\n",
      "3\n",
      "3\n",
      "8\n"
     ]
    }
   ],
   "source": [
    "import pandas as pd\n",
    "import random\n",
    "def get_department_ids():\n",
    "    df = pd.read_csv('departments.csv')\n",
    "    return df.id.values\n",
    "dept_ids = get_department_ids()\n",
    "for i in range(10):\n",
    "    print(random.choice(dept_ids))"
   ]
  },
  {
   "cell_type": "code",
   "execution_count": 15,
   "id": "3bf27ac6",
   "metadata": {},
   "outputs": [],
   "source": [
    "import pandas as pd\n",
    "import random\n",
    "import os\n",
    "from faker import Faker\n",
    "fak = Faker()\n",
    "def get_department_ids():\n",
    "    df = pd.read_csv('departments.csv')\n",
    "    return df.id.values\n",
    "def save_data_into_employee_file(f):\n",
    "    row = f\"{i},{fak.name()},{random.choice(dept_ids)}\"\n",
    "    f.write(row)\n",
    "    f.write(\"\\n\")\n",
    "    f.flush()\n",
    "dept_ids = get_department_ids()\n",
    "try:\n",
    "    f=open(os.path.join(\"data\",\"employees.csv\"),\"w\")\n",
    "    for i in range(10):\n",
    "        save_data_into_employee_file(f)\n",
    "except Exception as err:\n",
    "    print(err)\n",
    "finally:\n",
    "    f.close()\n"
   ]
  },
  {
   "cell_type": "code",
   "execution_count": 16,
   "id": "c38a4f47",
   "metadata": {},
   "outputs": [
    {
     "data": {
      "text/plain": [
       "'data\\\\employees.csv'"
      ]
     },
     "execution_count": 16,
     "metadata": {},
     "output_type": "execute_result"
    }
   ],
   "source": [
    "import os\n",
    "os.path.join(\"data\",\"employees.csv\")"
   ]
  },
  {
   "cell_type": "code",
   "execution_count": null,
   "id": "7d326502",
   "metadata": {},
   "outputs": [],
   "source": [
    "import random\n",
    "import os\n",
    "import threading\n",
    "\n",
    "import pandas as pd\n",
    "from faker import Faker\n",
    "\n",
    "fak = Faker()\n",
    "\n",
    "def get_department_ids():\n",
    "    df = pd.read_csv('departments.csv')\n",
    "    return df.id.values\n",
    "\n",
    "def save_data_into_employee_file(f):\n",
    "    row = f\"{i},{fak.name()},{random.choice(dept_ids)}\"\n",
    "    f.write(row)\n",
    "    f.write(\"\\n\")\n",
    "    f.flush()\n",
    "    \n",
    "dept_ids = get_department_ids()\n",
    "try:\n",
    "    f=open(os.path.join(\"data\",\"employees.csv\"),\"w\")\n",
    "    for i in range(47000):\n",
    "        thr = threading.Thread(target=save_data_into_employee_file, args=(f,))\n",
    "        thr.start()\n",
    "except Exception as err:\n",
    "    print(err)\n",
    "finally:\n",
    "    f.close()\n"
   ]
  }
 ],
 "metadata": {
  "kernelspec": {
   "display_name": "Python 3 (ipykernel)",
   "language": "python",
   "name": "python3"
  },
  "language_info": {
   "codemirror_mode": {
    "name": "ipython",
    "version": 3
   },
   "file_extension": ".py",
   "mimetype": "text/x-python",
   "name": "python",
   "nbconvert_exporter": "python",
   "pygments_lexer": "ipython3",
   "version": "3.11.3"
  }
 },
 "nbformat": 4,
 "nbformat_minor": 5
}
