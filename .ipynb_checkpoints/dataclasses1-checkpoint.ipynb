{
 "cells": [
  {
   "cell_type": "code",
   "execution_count": 1,
   "id": "ba8a6f72",
   "metadata": {},
   "outputs": [
    {
     "name": "stdout",
     "output_type": "stream",
     "text": [
      "<__main__.Employee object at 0x000001E4B83BAB10>\n",
      "<__main__.Employee object at 0x000001E4B83BAB90>\n",
      "False\n"
     ]
    }
   ],
   "source": [
    "class Employee:\n",
    "    def __init__(self, emp_id,name,department_id):\n",
    "        self.name=name\n",
    "        self.emp_id=emp_id\n",
    "        self.dept_id=department_id\n",
    "e1=Employee(name=\"sam\",emp_id=1,department_id=1)\n",
    "e2=Employee(name=\"jay\",emp_id=2,department_id=1)\n",
    "print(e1)\n",
    "print(e2)\n",
    "print(e1==e2)\n"
   ]
  },
  {
   "cell_type": "code",
   "execution_count": 5,
   "id": "9f8cacc9",
   "metadata": {},
   "outputs": [
    {
     "name": "stdout",
     "output_type": "stream",
     "text": [
      "Employee(name=sam,emp_id=1,department_id=1)\n",
      "Employee(name=jay,emp_id=2,department_id=1)\n",
      "False\n"
     ]
    }
   ],
   "source": [
    "class Employee:\n",
    "    def __init__(self, emp_id,name,department_id):\n",
    "        self.name=name\n",
    "        self.emp_id=emp_id\n",
    "        self.department_id=department_id\n",
    "    def __repr__(self):\n",
    "        return f\"Employee(name={self.name},emp_id={self.emp_id},department_id={self.department_id})\"\n",
    "    \n",
    "e1=Employee(name=\"sam\",emp_id=1,department_id=1)\n",
    "e2=Employee(name=\"jay\",emp_id=2,department_id=1)\n",
    "print(e1)\n",
    "print(e2)\n",
    "print(e1==e2)\n"
   ]
  },
  {
   "cell_type": "code",
   "execution_count": 6,
   "id": "66d5dd85",
   "metadata": {},
   "outputs": [
    {
     "name": "stdout",
     "output_type": "stream",
     "text": [
      "Employee(name=sam,emp_id=1,department_id=1)\n",
      "Employee(name=sam,emp_id=1,department_id=1)\n",
      "False\n"
     ]
    }
   ],
   "source": [
    "class Employee:\n",
    "    def __init__(self, emp_id,name,department_id):\n",
    "        self.name=name\n",
    "        self.emp_id=emp_id\n",
    "        self.department_id=department_id\n",
    "    def __repr__(self):\n",
    "        return f\"Employee(name={self.name},emp_id={self.emp_id},department_id={self.department_id})\"\n",
    "    \n",
    "e1=Employee(name=\"sam\",emp_id=1,department_id=1)\n",
    "e2=Employee(name=\"sam\",emp_id=1,department_id=1)\n",
    "print(e1)\n",
    "print(e2)\n",
    "print(e1==e2)\n"
   ]
  },
  {
   "cell_type": "code",
   "execution_count": 7,
   "id": "a7d5ffbb",
   "metadata": {},
   "outputs": [
    {
     "name": "stdout",
     "output_type": "stream",
     "text": [
      "True\n",
      "False\n"
     ]
    }
   ],
   "source": [
    "d1={\"name\":\"jay\"}\n",
    "d2={\"name\":\"jay\"}\n",
    "print(d1==d2)\n",
    "print(d1 is d2)"
   ]
  },
  {
   "cell_type": "code",
   "execution_count": 8,
   "id": "4f80551d",
   "metadata": {},
   "outputs": [
    {
     "name": "stdout",
     "output_type": "stream",
     "text": [
      "Employee(name=sam,emp_id=1,department_id=1)\n",
      "Employee(name=sam,emp_id=1,department_id=1)\n",
      "True\n"
     ]
    }
   ],
   "source": [
    "class Employee:\n",
    "    def __init__(self, emp_id,name,department_id):\n",
    "        self.name=name\n",
    "        self.emp_id=emp_id\n",
    "        self.department_id=department_id\n",
    "    def __repr__(self):\n",
    "        return f\"Employee(name='{self.name}',emp_id='{self.emp_id}',department_id='{self.department_id}')\"\n",
    "    def __eq__(self, other):\n",
    "        return all([self.name==other.name, self.emp_id==other.emp_id, self.department_id==other.department_id])\n",
    "    \n",
    "e1=Employee(name=\"sam\",emp_id=1,department_id=1)\n",
    "e2=Employee(name=\"sam\",emp_id=1,department_id=1)\n",
    "print(e1)\n",
    "print(e2)\n",
    "print(e1==e2)\n"
   ]
  },
  {
   "cell_type": "code",
   "execution_count": 9,
   "id": "ef837b39",
   "metadata": {},
   "outputs": [
    {
     "name": "stdout",
     "output_type": "stream",
     "text": [
      "Employee(name='sam', emp_id=1, department_id=1)\n",
      "Employee(name='sam', emp_id=1, department_id=1)\n",
      "True\n"
     ]
    }
   ],
   "source": [
    "from dataclasses import dataclass\n",
    "@dataclass\n",
    "class Employee:\n",
    "    name: str\n",
    "    emp_id: int\n",
    "    department_id: int\n",
    "e1=Employee(name=\"sam\",emp_id=1,department_id=1)\n",
    "e2=Employee(name=\"sam\",emp_id=1,department_id=1)\n",
    "print(e1)\n",
    "print(e2)\n",
    "print(e1==e2)"
   ]
  },
  {
   "cell_type": "code",
   "execution_count": 11,
   "id": "92ecf60f",
   "metadata": {},
   "outputs": [
    {
     "name": "stdout",
     "output_type": "stream",
     "text": [
      "Employee(name='sam1',emp_id='1',department_id='1')\n"
     ]
    }
   ],
   "source": [
    "class Employee:\n",
    "    def __init__(self, emp_id,name,department_id):\n",
    "        self.name=name\n",
    "        self.emp_id=emp_id\n",
    "        self.department_id=department_id\n",
    "    def __repr__(self):\n",
    "        return f\"Employee(name='{self.name}',emp_id='{self.emp_id}',department_id='{self.department_id}')\"\n",
    "    def __eq__(self, other):\n",
    "        return all([self.name==other.name, self.emp_id==other.emp_id, self.department_id==other.department_id])\n",
    "    \n",
    "e1=Employee(name=\"sam\",emp_id=1,department_id=1)\n",
    "e1.name=\"sam1\"\n",
    "print(e1)"
   ]
  },
  {
   "cell_type": "code",
   "execution_count": 12,
   "id": "9ba14156",
   "metadata": {},
   "outputs": [
    {
     "ename": "TypeError",
     "evalue": "'tuple' object does not support item assignment",
     "output_type": "error",
     "traceback": [
      "\u001b[1;31m---------------------------------------------------------------------------\u001b[0m",
      "\u001b[1;31mTypeError\u001b[0m                                 Traceback (most recent call last)",
      "Cell \u001b[1;32mIn[12], line 2\u001b[0m\n\u001b[0;32m      1\u001b[0m t\u001b[38;5;241m=\u001b[39m(\u001b[38;5;241m1\u001b[39m,\u001b[38;5;241m2\u001b[39m,\u001b[38;5;241m3\u001b[39m,\u001b[38;5;241m4\u001b[39m)\n\u001b[1;32m----> 2\u001b[0m t[\u001b[38;5;241m0\u001b[39m]\u001b[38;5;241m=\u001b[39m\u001b[38;5;241m10\u001b[39m\n",
      "\u001b[1;31mTypeError\u001b[0m: 'tuple' object does not support item assignment"
     ]
    }
   ],
   "source": [
    "t=(1,2,3,4)\n",
    "t[0]=10"
   ]
  },
  {
   "cell_type": "code",
   "execution_count": 13,
   "id": "6ede7e91",
   "metadata": {},
   "outputs": [
    {
     "name": "stdout",
     "output_type": "stream",
     "text": [
      "Employee(name='sam', emp_id=1, department_id=1)\n",
      "Employee(name='sam', emp_id=1, department_id=1)\n",
      "True\n",
      "Employee(name='sam1', emp_id=1, department_id=1)\n"
     ]
    }
   ],
   "source": [
    "from dataclasses import dataclass\n",
    "@dataclass\n",
    "class Employee:\n",
    "    name: str\n",
    "    emp_id: int\n",
    "    department_id: int\n",
    "e1=Employee(name=\"sam\",emp_id=1,department_id=1)\n",
    "e2=Employee(name=\"sam\",emp_id=1,department_id=1)\n",
    "print(e1)\n",
    "print(e2)\n",
    "print(e1==e2)\n",
    "e1.name=\"sam1\"\n",
    "print(e1)"
   ]
  },
  {
   "cell_type": "code",
   "execution_count": 15,
   "id": "0f805aca",
   "metadata": {},
   "outputs": [
    {
     "name": "stdout",
     "output_type": "stream",
     "text": [
      "Employee(name='sam', emp_id=1, department_id=1)\n",
      "Employee(name='sam', emp_id=1, department_id=1)\n",
      "True\n"
     ]
    },
    {
     "ename": "FrozenInstanceError",
     "evalue": "cannot assign to field 'name'",
     "output_type": "error",
     "traceback": [
      "\u001b[1;31m---------------------------------------------------------------------------\u001b[0m",
      "\u001b[1;31mFrozenInstanceError\u001b[0m                       Traceback (most recent call last)",
      "Cell \u001b[1;32mIn[15], line 12\u001b[0m\n\u001b[0;32m     10\u001b[0m \u001b[38;5;28mprint\u001b[39m(e2)\n\u001b[0;32m     11\u001b[0m \u001b[38;5;28mprint\u001b[39m(e1\u001b[38;5;241m==\u001b[39me2)\n\u001b[1;32m---> 12\u001b[0m e1\u001b[38;5;241m.\u001b[39mname\u001b[38;5;241m=\u001b[39m\u001b[38;5;124m\"\u001b[39m\u001b[38;5;124msam1\u001b[39m\u001b[38;5;124m\"\u001b[39m\n\u001b[0;32m     13\u001b[0m \u001b[38;5;28mprint\u001b[39m(e1)\n",
      "File \u001b[1;32m<string>:4\u001b[0m, in \u001b[0;36m__setattr__\u001b[1;34m(self, name, value)\u001b[0m\n",
      "\u001b[1;31mFrozenInstanceError\u001b[0m: cannot assign to field 'name'"
     ]
    }
   ],
   "source": [
    "from dataclasses import dataclass\n",
    "@dataclass(frozen=True)\n",
    "class Employee:\n",
    "    name: str\n",
    "    emp_id: int\n",
    "    department_id: int\n",
    "e1=Employee(name=\"sam\",emp_id=1,department_id=1)\n",
    "e2=Employee(name=\"sam\",emp_id=1,department_id=1)\n",
    "print(e1)\n",
    "print(e2)\n",
    "print(e1==e2)\n",
    "e1.name=\"sam1\"\n",
    "print(e1)"
   ]
  },
  {
   "cell_type": "code",
   "execution_count": null,
   "id": "c5dce5a0",
   "metadata": {},
   "outputs": [],
   "source": []
  }
 ],
 "metadata": {
  "kernelspec": {
   "display_name": "Python 3 (ipykernel)",
   "language": "python",
   "name": "python3"
  },
  "language_info": {
   "codemirror_mode": {
    "name": "ipython",
    "version": 3
   },
   "file_extension": ".py",
   "mimetype": "text/x-python",
   "name": "python",
   "nbconvert_exporter": "python",
   "pygments_lexer": "ipython3",
   "version": "3.11.3"
  }
 },
 "nbformat": 4,
 "nbformat_minor": 5
}
