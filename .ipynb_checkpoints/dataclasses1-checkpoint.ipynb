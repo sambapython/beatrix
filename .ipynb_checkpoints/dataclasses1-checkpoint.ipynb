{
 "cells": [
  {
   "cell_type": "code",
   "execution_count": 1,
   "id": "ba8a6f72",
   "metadata": {},
   "outputs": [
    {
     "name": "stdout",
     "output_type": "stream",
     "text": [
      "<__main__.Employee object at 0x000001E4B83BAB10>\n",
      "<__main__.Employee object at 0x000001E4B83BAB90>\n",
      "False\n"
     ]
    }
   ],
   "source": [
    "class Employee:\n",
    "    def __init__(self, emp_id,name,department_id):\n",
    "        self.name=name\n",
    "        self.emp_id=emp_id\n",
    "        self.dept_id=department_id\n",
    "e1=Employee(name=\"sam\",emp_id=1,department_id=1)\n",
    "e2=Employee(name=\"jay\",emp_id=2,department_id=1)\n",
    "print(e1)\n",
    "print(e2)\n",
    "print(e1==e2)\n"
   ]
  },
  {
   "cell_type": "code",
   "execution_count": 5,
   "id": "9f8cacc9",
   "metadata": {},
   "outputs": [
    {
     "name": "stdout",
     "output_type": "stream",
     "text": [
      "Employee(name=sam,emp_id=1,department_id=1)\n",
      "Employee(name=jay,emp_id=2,department_id=1)\n",
      "False\n"
     ]
    }
   ],
   "source": [
    "class Employee:\n",
    "    def __init__(self, emp_id,name,department_id):\n",
    "        self.name=name\n",
    "        self.emp_id=emp_id\n",
    "        self.department_id=department_id\n",
    "    def __repr__(self):\n",
    "        return f\"Employee(name={self.name},emp_id={self.emp_id},department_id={self.department_id})\"\n",
    "    \n",
    "e1=Employee(name=\"sam\",emp_id=1,department_id=1)\n",
    "e2=Employee(name=\"jay\",emp_id=2,department_id=1)\n",
    "print(e1)\n",
    "print(e2)\n",
    "print(e1==e2)\n"
   ]
  },
  {
   "cell_type": "code",
   "execution_count": 6,
   "id": "66d5dd85",
   "metadata": {},
   "outputs": [
    {
     "name": "stdout",
     "output_type": "stream",
     "text": [
      "Employee(name=sam,emp_id=1,department_id=1)\n",
      "Employee(name=sam,emp_id=1,department_id=1)\n",
      "False\n"
     ]
    }
   ],
   "source": [
    "class Employee:\n",
    "    def __init__(self, emp_id,name,department_id):\n",
    "        self.name=name\n",
    "        self.emp_id=emp_id\n",
    "        self.department_id=department_id\n",
    "    def __repr__(self):\n",
    "        return f\"Employee(name={self.name},emp_id={self.emp_id},department_id={self.department_id})\"\n",
    "    \n",
    "e1=Employee(name=\"sam\",emp_id=1,department_id=1)\n",
    "e2=Employee(name=\"sam\",emp_id=1,department_id=1)\n",
    "print(e1)\n",
    "print(e2)\n",
    "print(e1==e2)\n"
   ]
  },
  {
   "cell_type": "code",
   "execution_count": 7,
   "id": "a7d5ffbb",
   "metadata": {},
   "outputs": [
    {
     "name": "stdout",
     "output_type": "stream",
     "text": [
      "True\n",
      "False\n"
     ]
    }
   ],
   "source": [
    "d1={\"name\":\"jay\"}\n",
    "d2={\"name\":\"jay\"}\n",
    "print(d1==d2)\n",
    "print(d1 is d2)"
   ]
  },
  {
   "cell_type": "code",
   "execution_count": 8,
   "id": "4f80551d",
   "metadata": {},
   "outputs": [
    {
     "name": "stdout",
     "output_type": "stream",
     "text": [
      "Employee(name=sam,emp_id=1,department_id=1)\n",
      "Employee(name=sam,emp_id=1,department_id=1)\n",
      "True\n"
     ]
    }
   ],
   "source": [
    "class Employee:\n",
    "    def __init__(self, emp_id,name,department_id):\n",
    "        self.name=name\n",
    "        self.emp_id=emp_id\n",
    "        self.department_id=department_id\n",
    "    def __repr__(self):\n",
    "        return f\"Employee(name='{self.name}',emp_id='{self.emp_id}',department_id='{self.department_id}')\"\n",
    "    def __eq__(self, other):\n",
    "        return all([self.name==other.name, self.emp_id==other.emp_id, self.department_id==other.department_id])\n",
    "    \n",
    "e1=Employee(name=\"sam\",emp_id=1,department_id=1)\n",
    "e2=Employee(name=\"sam\",emp_id=1,department_id=1)\n",
    "print(e1)\n",
    "print(e2)\n",
    "print(e1==e2)\n"
   ]
  },
  {
   "cell_type": "code",
   "execution_count": 9,
   "id": "ef837b39",
   "metadata": {},
   "outputs": [
    {
     "name": "stdout",
     "output_type": "stream",
     "text": [
      "Employee(name='sam', emp_id=1, department_id=1)\n",
      "Employee(name='sam', emp_id=1, department_id=1)\n",
      "True\n"
     ]
    }
   ],
   "source": [
    "from dataclasses import dataclass\n",
    "@dataclass\n",
    "class Employee:\n",
    "    name: str\n",
    "    emp_id: int\n",
    "    department_id: int\n",
    "e1=Employee(name=\"sam\",emp_id=1,department_id=1)\n",
    "e2=Employee(name=\"sam\",emp_id=1,department_id=1)\n",
    "print(e1)\n",
    "print(e2)\n",
    "print(e1==e2)"
   ]
  },
  {
   "cell_type": "code",
   "execution_count": 11,
   "id": "92ecf60f",
   "metadata": {},
   "outputs": [
    {
     "name": "stdout",
     "output_type": "stream",
     "text": [
      "Employee(name='sam1',emp_id='1',department_id='1')\n"
     ]
    }
   ],
   "source": [
    "class Employee:\n",
    "    def __init__(self, emp_id,name,department_id):\n",
    "        self.name=name\n",
    "        self.emp_id=emp_id\n",
    "        self.department_id=department_id\n",
    "    def __repr__(self):\n",
    "        return f\"Employee(name='{self.name}',emp_id='{self.emp_id}',department_id='{self.department_id}')\"\n",
    "    def __eq__(self, other):\n",
    "        return all([self.name==other.name, self.emp_id==other.emp_id, self.department_id==other.department_id])\n",
    "    \n",
    "e1=Employee(name=\"sam\",emp_id=1,department_id=1)\n",
    "e1.name=\"sam1\"\n",
    "print(e1)"
   ]
  },
  {
   "cell_type": "code",
   "execution_count": 12,
   "id": "9ba14156",
   "metadata": {},
   "outputs": [
    {
     "ename": "TypeError",
     "evalue": "'tuple' object does not support item assignment",
     "output_type": "error",
     "traceback": [
      "\u001b[1;31m---------------------------------------------------------------------------\u001b[0m",
      "\u001b[1;31mTypeError\u001b[0m                                 Traceback (most recent call last)",
      "Cell \u001b[1;32mIn[12], line 2\u001b[0m\n\u001b[0;32m      1\u001b[0m t\u001b[38;5;241m=\u001b[39m(\u001b[38;5;241m1\u001b[39m,\u001b[38;5;241m2\u001b[39m,\u001b[38;5;241m3\u001b[39m,\u001b[38;5;241m4\u001b[39m)\n\u001b[1;32m----> 2\u001b[0m t[\u001b[38;5;241m0\u001b[39m]\u001b[38;5;241m=\u001b[39m\u001b[38;5;241m10\u001b[39m\n",
      "\u001b[1;31mTypeError\u001b[0m: 'tuple' object does not support item assignment"
     ]
    }
   ],
   "source": [
    "t=(1,2,3,4)\n",
    "t[0]=10"
   ]
  },
  {
   "cell_type": "code",
   "execution_count": 13,
   "id": "6ede7e91",
   "metadata": {},
   "outputs": [
    {
     "name": "stdout",
     "output_type": "stream",
     "text": [
      "Employee(name='sam', emp_id=1, department_id=1)\n",
      "Employee(name='sam', emp_id=1, department_id=1)\n",
      "True\n",
      "Employee(name='sam1', emp_id=1, department_id=1)\n"
     ]
    }
   ],
   "source": [
    "from dataclasses import dataclass\n",
    "@dataclass\n",
    "class Employee:\n",
    "    name: str\n",
    "    emp_id: int\n",
    "    department_id: int\n",
    "e1=Employee(name=\"sam\",emp_id=1,department_id=1)\n",
    "e2=Employee(name=\"sam\",emp_id=1,department_id=1)\n",
    "print(e1)\n",
    "print(e2)\n",
    "print(e1==e2)\n",
    "e1.name=\"sam1\"\n",
    "print(e1)"
   ]
  },
  {
   "cell_type": "code",
   "execution_count": 15,
   "id": "0f805aca",
   "metadata": {},
   "outputs": [
    {
     "name": "stdout",
     "output_type": "stream",
     "text": [
      "Employee(name='sam', emp_id=1, department_id=1)\n",
      "Employee(name='sam', emp_id=1, department_id=1)\n",
      "True\n"
     ]
    },
    {
     "ename": "FrozenInstanceError",
     "evalue": "cannot assign to field 'name'",
     "output_type": "error",
     "traceback": [
      "\u001b[1;31m---------------------------------------------------------------------------\u001b[0m",
      "\u001b[1;31mFrozenInstanceError\u001b[0m                       Traceback (most recent call last)",
      "Cell \u001b[1;32mIn[15], line 12\u001b[0m\n\u001b[0;32m     10\u001b[0m \u001b[38;5;28mprint\u001b[39m(e2)\n\u001b[0;32m     11\u001b[0m \u001b[38;5;28mprint\u001b[39m(e1\u001b[38;5;241m==\u001b[39me2)\n\u001b[1;32m---> 12\u001b[0m e1\u001b[38;5;241m.\u001b[39mname\u001b[38;5;241m=\u001b[39m\u001b[38;5;124m\"\u001b[39m\u001b[38;5;124msam1\u001b[39m\u001b[38;5;124m\"\u001b[39m\n\u001b[0;32m     13\u001b[0m \u001b[38;5;28mprint\u001b[39m(e1)\n",
      "File \u001b[1;32m<string>:4\u001b[0m, in \u001b[0;36m__setattr__\u001b[1;34m(self, name, value)\u001b[0m\n",
      "\u001b[1;31mFrozenInstanceError\u001b[0m: cannot assign to field 'name'"
     ]
    }
   ],
   "source": [
    "from dataclasses import dataclass\n",
    "@dataclass(frozen=True)\n",
    "class Employee:\n",
    "    name: str\n",
    "    emp_id: int\n",
    "    department_id: int\n",
    "e1=Employee(name=\"sam\",emp_id=1,department_id=1)\n",
    "e2=Employee(name=\"sam\",emp_id=1,department_id=1)\n",
    "print(e1)\n",
    "print(e2)\n",
    "print(e1==e2)\n",
    "e1.name=\"sam1\"\n",
    "print(e1)"
   ]
  },
  {
   "cell_type": "code",
   "execution_count": 1,
   "id": "c5dce5a0",
   "metadata": {},
   "outputs": [
    {
     "name": "stdout",
     "output_type": "stream",
     "text": [
      "['__annotations__', '__class__', '__dataclass_fields__', '__dataclass_params__', '__delattr__', '__dict__', '__dir__', '__doc__', '__eq__', '__format__', '__ge__', '__getattribute__', '__getstate__', '__gt__', '__hash__', '__init__', '__init_subclass__', '__le__', '__lt__', '__match_args__', '__module__', '__ne__', '__new__', '__reduce__', '__reduce_ex__', '__repr__', '__setattr__', '__sizeof__', '__str__', '__subclasshook__', '__weakref__', 'department_id', 'emp_id', 'name']\n",
      "['__annotations__', '__class__', '__dataclass_fields__', '__dataclass_params__', '__delattr__', '__dict__', '__dir__', '__doc__', '__eq__', '__format__', '__ge__', '__getattribute__', '__getstate__', '__gt__', '__hash__', '__init__', '__init_subclass__', '__le__', '__lt__', '__match_args__', '__module__', '__ne__', '__new__', '__reduce__', '__reduce_ex__', '__repr__', '__setattr__', '__sizeof__', '__str__', '__subclasshook__', '__weakref__']\n"
     ]
    }
   ],
   "source": [
    "from dataclasses import dataclass\n",
    "@dataclass(frozen=True)\n",
    "class Employee:\n",
    "    name: str\n",
    "    emp_id: int\n",
    "    department_id: int\n",
    "e1=Employee(name=\"sam\",emp_id=1,department_id=1) # new, init\n",
    "print(dir(e1))\n",
    "print(dir(Employee))"
   ]
  },
  {
   "cell_type": "code",
   "execution_count": 2,
   "id": "0bd5d405",
   "metadata": {},
   "outputs": [],
   "source": [
    "dataclass?"
   ]
  },
  {
   "cell_type": "code",
   "execution_count": 3,
   "id": "dc07c81f",
   "metadata": {},
   "outputs": [
    {
     "ename": "AttributeError",
     "evalue": "type object 'Employee' has no attribute 'name'",
     "output_type": "error",
     "traceback": [
      "\u001b[1;31m---------------------------------------------------------------------------\u001b[0m",
      "\u001b[1;31mAttributeError\u001b[0m                            Traceback (most recent call last)",
      "Cell \u001b[1;32mIn[3], line 1\u001b[0m\n\u001b[1;32m----> 1\u001b[0m Employee\u001b[38;5;241m.\u001b[39mname\n",
      "\u001b[1;31mAttributeError\u001b[0m: type object 'Employee' has no attribute 'name'"
     ]
    }
   ],
   "source": [
    "Employee.name"
   ]
  },
  {
   "cell_type": "code",
   "execution_count": 5,
   "id": "4e265afe",
   "metadata": {},
   "outputs": [
    {
     "ename": "TypeError",
     "evalue": "Field.__init__() missing 7 required positional arguments: 'default_factory', 'init', 'repr', 'hash', 'compare', 'metadata', and 'kw_only'",
     "output_type": "error",
     "traceback": [
      "\u001b[1;31m---------------------------------------------------------------------------\u001b[0m",
      "\u001b[1;31mTypeError\u001b[0m                                 Traceback (most recent call last)",
      "Cell \u001b[1;32mIn[5], line 3\u001b[0m\n\u001b[0;32m      1\u001b[0m \u001b[38;5;28;01mfrom\u001b[39;00m \u001b[38;5;21;01mdataclasses\u001b[39;00m \u001b[38;5;28;01mimport\u001b[39;00m dataclass, Field\n\u001b[0;32m      2\u001b[0m \u001b[38;5;129m@dataclass\u001b[39m\n\u001b[1;32m----> 3\u001b[0m \u001b[38;5;28;01mclass\u001b[39;00m \u001b[38;5;21;01mEmployee\u001b[39;00m:\n\u001b[0;32m      4\u001b[0m     name: \u001b[38;5;28mstr\u001b[39m\n\u001b[0;32m      5\u001b[0m     emp_id: \u001b[38;5;28mint\u001b[39m\n",
      "Cell \u001b[1;32mIn[5], line 6\u001b[0m, in \u001b[0;36mEmployee\u001b[1;34m()\u001b[0m\n\u001b[0;32m      4\u001b[0m name: \u001b[38;5;28mstr\u001b[39m\n\u001b[0;32m      5\u001b[0m emp_id: \u001b[38;5;28mint\u001b[39m\n\u001b[1;32m----> 6\u001b[0m department_id: \u001b[38;5;28mint\u001b[39m \u001b[38;5;241m=\u001b[39m Field(default\u001b[38;5;241m=\u001b[39m\u001b[38;5;241m23\u001b[39m)\n",
      "\u001b[1;31mTypeError\u001b[0m: Field.__init__() missing 7 required positional arguments: 'default_factory', 'init', 'repr', 'hash', 'compare', 'metadata', and 'kw_only'"
     ]
    }
   ],
   "source": [
    "from dataclasses import dataclass, Field\n",
    "@dataclass\n",
    "class Employee:\n",
    "    name: str\n",
    "    emp_id: int\n",
    "    department_id: int = Field(default=23)\n",
    "e1=Employee(name=\"sam\",emp_id=1) # new, init\n",
    "print(dir(e1))\n",
    "print(dir(Employee))"
   ]
  },
  {
   "cell_type": "code",
   "execution_count": 6,
   "id": "3874fdd4",
   "metadata": {},
   "outputs": [
    {
     "name": "stdout",
     "output_type": "stream",
     "text": [
      "10 20\n",
      "10 20\n",
      "10 20\n"
     ]
    }
   ],
   "source": [
    "def fun(x,y):\n",
    "    print(x,y)\n",
    "fun(10,20)\n",
    "fun(10,y=20)\n",
    "fun(y=20,x=10)"
   ]
  },
  {
   "cell_type": "code",
   "execution_count": 7,
   "id": "2c4e3b13",
   "metadata": {},
   "outputs": [
    {
     "ename": "TypeError",
     "evalue": "fun() takes 0 positional arguments but 2 were given",
     "output_type": "error",
     "traceback": [
      "\u001b[1;31m---------------------------------------------------------------------------\u001b[0m",
      "\u001b[1;31mTypeError\u001b[0m                                 Traceback (most recent call last)",
      "Cell \u001b[1;32mIn[7], line 3\u001b[0m\n\u001b[0;32m      1\u001b[0m \u001b[38;5;28;01mdef\u001b[39;00m \u001b[38;5;21mfun\u001b[39m(\u001b[38;5;241m*\u001b[39m, x,y):\n\u001b[0;32m      2\u001b[0m     \u001b[38;5;28mprint\u001b[39m(x,y)\n\u001b[1;32m----> 3\u001b[0m fun(\u001b[38;5;241m10\u001b[39m,\u001b[38;5;241m20\u001b[39m)\n\u001b[0;32m      4\u001b[0m fun(\u001b[38;5;241m10\u001b[39m,y\u001b[38;5;241m=\u001b[39m\u001b[38;5;241m20\u001b[39m)\n\u001b[0;32m      5\u001b[0m fun(y\u001b[38;5;241m=\u001b[39m\u001b[38;5;241m20\u001b[39m,x\u001b[38;5;241m=\u001b[39m\u001b[38;5;241m10\u001b[39m)\n",
      "\u001b[1;31mTypeError\u001b[0m: fun() takes 0 positional arguments but 2 were given"
     ]
    }
   ],
   "source": [
    "def fun(*, x,y):\n",
    "    print(x,y)\n",
    "fun(10,20)\n",
    "fun(10,y=20)\n",
    "fun(y=20,x=10)"
   ]
  },
  {
   "cell_type": "code",
   "execution_count": 8,
   "id": "e7654553",
   "metadata": {},
   "outputs": [
    {
     "name": "stdout",
     "output_type": "stream",
     "text": [
      "10 20\n"
     ]
    }
   ],
   "source": [
    "def fun(*, x,y):\n",
    "    print(x,y)\n",
    "fun(y=20,x=10)"
   ]
  },
  {
   "cell_type": "code",
   "execution_count": 11,
   "id": "dd8f6e52",
   "metadata": {},
   "outputs": [
    {
     "name": "stdout",
     "output_type": "stream",
     "text": [
      "Employee(name='sam', emp_id=1, department_id=<function default_department_id at 0x0000020F91CCCD60>)\n"
     ]
    }
   ],
   "source": [
    "from dataclasses import dataclass, field\n",
    "def default_department_id():\n",
    "    return 1234\n",
    "@dataclass\n",
    "class Employee:\n",
    "    name: str\n",
    "    emp_id: int\n",
    "    department_id: int = field(default=default_department_id)\n",
    "e1=Employee(name=\"sam\",emp_id=1) # new, init\n",
    "print(e1)"
   ]
  },
  {
   "cell_type": "code",
   "execution_count": 12,
   "id": "50f4d5ef",
   "metadata": {},
   "outputs": [
    {
     "name": "stdout",
     "output_type": "stream",
     "text": [
      "Employee(name='sam', emp_id=1, department_id=1234)\n"
     ]
    }
   ],
   "source": [
    "from dataclasses import dataclass, field\n",
    "def default_department_id():\n",
    "    return 1234\n",
    "@dataclass\n",
    "class Employee:\n",
    "    name: str\n",
    "    emp_id: int\n",
    "    department_id: int = field(default=default_department_id())\n",
    "e1=Employee(name=\"sam\",emp_id=1) # new, init\n",
    "print(e1)"
   ]
  },
  {
   "cell_type": "code",
   "execution_count": 13,
   "id": "4a5c14fa",
   "metadata": {},
   "outputs": [
    {
     "name": "stdout",
     "output_type": "stream",
     "text": [
      "Employee(name='sam', emp_id=1)\n"
     ]
    }
   ],
   "source": [
    "from dataclasses import dataclass, field\n",
    "def default_department_id():\n",
    "    return 1234\n",
    "@dataclass\n",
    "class Employee:\n",
    "    name: str\n",
    "    emp_id: int\n",
    "    department_id: int = field(default=default_department_id(), repr=False)\n",
    "e1=Employee(name=\"sam\",emp_id=1) # new, init\n",
    "print(e1)"
   ]
  },
  {
   "cell_type": "code",
   "execution_count": 14,
   "id": "bd9a39a7",
   "metadata": {},
   "outputs": [
    {
     "name": "stdout",
     "output_type": "stream",
     "text": [
      "Employee(name='sam', emp_id=1)\n"
     ]
    }
   ],
   "source": [
    "from dataclasses import dataclass, field\n",
    "def default_department_id():\n",
    "    return 1234\n",
    "@dataclass\n",
    "class Employee:\n",
    "    name: str\n",
    "    emp_id: int\n",
    "    department_id: int = field(default=default_department_id(), repr=False, init=False)\n",
    "e1=Employee(name=\"sam\",emp_id=1) # new, init\n",
    "print(e1)"
   ]
  },
  {
   "cell_type": "code",
   "execution_count": 15,
   "id": "da0f1080",
   "metadata": {},
   "outputs": [
    {
     "name": "stdout",
     "output_type": "stream",
     "text": [
      "1234\n"
     ]
    }
   ],
   "source": [
    "print(Employee.department_id)"
   ]
  },
  {
   "cell_type": "code",
   "execution_count": 16,
   "id": "a480889b",
   "metadata": {},
   "outputs": [
    {
     "name": "stdout",
     "output_type": "stream",
     "text": [
      "True\n"
     ]
    }
   ],
   "source": [
    "from dataclasses import dataclass, field\n",
    "def default_department_id():\n",
    "    return 1234\n",
    "@dataclass\n",
    "class Employee:\n",
    "    name: str\n",
    "    emp_id: int\n",
    "    department_id: int = field(compare=False)\n",
    "e1=Employee(name=\"sam\",emp_id=1, department_id=23) # new, init\n",
    "e2=Employee(name=\"sam\",emp_id=1, department_id=23) \n",
    "print(e1==e2)"
   ]
  },
  {
   "cell_type": "code",
   "execution_count": 17,
   "id": "61eb26c5",
   "metadata": {},
   "outputs": [
    {
     "name": "stdout",
     "output_type": "stream",
     "text": [
      "True\n"
     ]
    }
   ],
   "source": [
    "from dataclasses import dataclass, field\n",
    "def default_department_id():\n",
    "    return 1234\n",
    "@dataclass\n",
    "class Employee:\n",
    "    name: str\n",
    "    emp_id: int\n",
    "    department_id: int = field(compare=False)\n",
    "e1=Employee(name=\"sam\",emp_id=1, department_id=23) # new, init\n",
    "e2=Employee(name=\"sam\",emp_id=1, department_id=24) \n",
    "print(e1==e2)"
   ]
  },
  {
   "cell_type": "code",
   "execution_count": 26,
   "id": "9587fda0",
   "metadata": {},
   "outputs": [
    {
     "name": "stdout",
     "output_type": "stream",
     "text": [
      "called post init\n",
      "called post init\n"
     ]
    }
   ],
   "source": [
    "from dataclasses import dataclass, field\n",
    "def default_department_id():\n",
    "    return 1234\n",
    "\n",
    "@dataclass\n",
    "class Employee:\n",
    "    name: str\n",
    "    emp_id: int\n",
    "    department_id: int = field(compare=False)\n",
    "    \n",
    "    def __post_init__(self):\n",
    "        print(\"called post init\")\n",
    "        \n",
    "        \n",
    "#     def __init__(self, **kwargs):\n",
    "#         super(Employee, self).__init__()\n",
    "        \n",
    "        \n",
    "e1=Employee(name=\"sam\",emp_id=1, department_id=23) # new, init\n",
    "e2=Employee(name=\"sam\",emp_id=1, department_id=24) "
   ]
  },
  {
   "cell_type": "code",
   "execution_count": 27,
   "id": "8219b445",
   "metadata": {},
   "outputs": [
    {
     "name": "stdout",
     "output_type": "stream",
     "text": [
      "called post init\n",
      "called post init\n"
     ]
    }
   ],
   "source": [
    "from dataclasses import dataclass, field\n",
    "def default_department_id():\n",
    "    return 1234\n",
    "\n",
    "@dataclass\n",
    "class Employee:\n",
    "    name: str\n",
    "    emp_id: int\n",
    "    department_id: int = field(compare=False)\n",
    "    \n",
    "    def __post_init__(self):\n",
    "        print(\"called post init\")\n",
    "        if not self.name.isalnum():\n",
    "            raise ValueError(\"Expecting only alpha numberics\")\n",
    "        \n",
    "        \n",
    "e1=Employee(name=\"sam\",emp_id=1, department_id=23) # new, init\n",
    "e2=Employee(name=\"sam\",emp_id=1, department_id=24) "
   ]
  },
  {
   "cell_type": "code",
   "execution_count": 28,
   "id": "ab1835bd",
   "metadata": {},
   "outputs": [
    {
     "name": "stdout",
     "output_type": "stream",
     "text": [
      "called post init\n"
     ]
    },
    {
     "ename": "ValueError",
     "evalue": "Expecting only alpha numberics",
     "output_type": "error",
     "traceback": [
      "\u001b[1;31m---------------------------------------------------------------------------\u001b[0m",
      "\u001b[1;31mValueError\u001b[0m                                Traceback (most recent call last)",
      "Cell \u001b[1;32mIn[28], line 17\u001b[0m\n\u001b[0;32m     13\u001b[0m         \u001b[38;5;28;01mif\u001b[39;00m \u001b[38;5;129;01mnot\u001b[39;00m \u001b[38;5;28mself\u001b[39m\u001b[38;5;241m.\u001b[39mname\u001b[38;5;241m.\u001b[39misalnum():\n\u001b[0;32m     14\u001b[0m             \u001b[38;5;28;01mraise\u001b[39;00m \u001b[38;5;167;01mValueError\u001b[39;00m(\u001b[38;5;124m\"\u001b[39m\u001b[38;5;124mExpecting only alpha numberics\u001b[39m\u001b[38;5;124m\"\u001b[39m)\n\u001b[1;32m---> 17\u001b[0m e1\u001b[38;5;241m=\u001b[39mEmployee(name\u001b[38;5;241m=\u001b[39m\u001b[38;5;124m\"\u001b[39m\u001b[38;5;124msam@#\u001b[39m\u001b[38;5;124m\"\u001b[39m,emp_id\u001b[38;5;241m=\u001b[39m\u001b[38;5;241m1\u001b[39m, department_id\u001b[38;5;241m=\u001b[39m\u001b[38;5;241m23\u001b[39m) \u001b[38;5;66;03m# new, init\u001b[39;00m\n\u001b[0;32m     18\u001b[0m e2\u001b[38;5;241m=\u001b[39mEmployee(name\u001b[38;5;241m=\u001b[39m\u001b[38;5;124m\"\u001b[39m\u001b[38;5;124msam\u001b[39m\u001b[38;5;124m\"\u001b[39m,emp_id\u001b[38;5;241m=\u001b[39m\u001b[38;5;241m1\u001b[39m, department_id\u001b[38;5;241m=\u001b[39m\u001b[38;5;241m24\u001b[39m)\n",
      "File \u001b[1;32m<string>:6\u001b[0m, in \u001b[0;36m__init__\u001b[1;34m(self, name, emp_id, department_id)\u001b[0m\n",
      "Cell \u001b[1;32mIn[28], line 14\u001b[0m, in \u001b[0;36mEmployee.__post_init__\u001b[1;34m(self)\u001b[0m\n\u001b[0;32m     12\u001b[0m \u001b[38;5;28mprint\u001b[39m(\u001b[38;5;124m\"\u001b[39m\u001b[38;5;124mcalled post init\u001b[39m\u001b[38;5;124m\"\u001b[39m)\n\u001b[0;32m     13\u001b[0m \u001b[38;5;28;01mif\u001b[39;00m \u001b[38;5;129;01mnot\u001b[39;00m \u001b[38;5;28mself\u001b[39m\u001b[38;5;241m.\u001b[39mname\u001b[38;5;241m.\u001b[39misalnum():\n\u001b[1;32m---> 14\u001b[0m     \u001b[38;5;28;01mraise\u001b[39;00m \u001b[38;5;167;01mValueError\u001b[39;00m(\u001b[38;5;124m\"\u001b[39m\u001b[38;5;124mExpecting only alpha numberics\u001b[39m\u001b[38;5;124m\"\u001b[39m)\n",
      "\u001b[1;31mValueError\u001b[0m: Expecting only alpha numberics"
     ]
    }
   ],
   "source": [
    "from dataclasses import dataclass, field\n",
    "def default_department_id():\n",
    "    return 1234\n",
    "\n",
    "@dataclass\n",
    "class Employee:\n",
    "    name: str\n",
    "    emp_id: int\n",
    "    department_id: int = field(compare=False)\n",
    "    \n",
    "    def __post_init__(self):\n",
    "        print(\"called post init\")\n",
    "        if not self.name.isalnum():\n",
    "            raise ValueError(\"Expecting only alpha numberics\")\n",
    "        \n",
    "        \n",
    "e1=Employee(name=\"sam@#\",emp_id=1, department_id=23) # new, init\n",
    "e2=Employee(name=\"sam\",emp_id=1, department_id=24) "
   ]
  },
  {
   "cell_type": "code",
   "execution_count": 33,
   "id": "213072e7",
   "metadata": {},
   "outputs": [
    {
     "ename": "ValidationError",
     "evalue": "1 validation error for Employee\nemp_id\n  Input should be a valid integer, got a number with a fractional part [type=int_from_float, input_value=12.34, input_type=float]\n    For further information visit https://errors.pydantic.dev/2.9/v/int_from_float",
     "output_type": "error",
     "traceback": [
      "\u001b[1;31m---------------------------------------------------------------------------\u001b[0m",
      "\u001b[1;31mValidationError\u001b[0m                           Traceback (most recent call last)",
      "Cell \u001b[1;32mIn[33], line 6\u001b[0m\n\u001b[0;32m      3\u001b[0m     emp_id: \u001b[38;5;28mint\u001b[39m\n\u001b[0;32m      5\u001b[0m Employee(emp_id\u001b[38;5;241m=\u001b[39m\u001b[38;5;241m12\u001b[39m)\n\u001b[1;32m----> 6\u001b[0m Employee(emp_id\u001b[38;5;241m=\u001b[39m\u001b[38;5;241m12.34\u001b[39m)\n",
      "File \u001b[1;32m~\\anaconda3\\Lib\\site-packages\\pydantic\\main.py:212\u001b[0m, in \u001b[0;36mBaseModel.__init__\u001b[1;34m(self, **data)\u001b[0m\n\u001b[0;32m    210\u001b[0m \u001b[38;5;66;03m# `__tracebackhide__` tells pytest and some other tools to omit this function from tracebacks\u001b[39;00m\n\u001b[0;32m    211\u001b[0m __tracebackhide__ \u001b[38;5;241m=\u001b[39m \u001b[38;5;28;01mTrue\u001b[39;00m\n\u001b[1;32m--> 212\u001b[0m validated_self \u001b[38;5;241m=\u001b[39m \u001b[38;5;28mself\u001b[39m\u001b[38;5;241m.\u001b[39m__pydantic_validator__\u001b[38;5;241m.\u001b[39mvalidate_python(data, self_instance\u001b[38;5;241m=\u001b[39m\u001b[38;5;28mself\u001b[39m)\n\u001b[0;32m    213\u001b[0m \u001b[38;5;28;01mif\u001b[39;00m \u001b[38;5;28mself\u001b[39m \u001b[38;5;129;01mis\u001b[39;00m \u001b[38;5;129;01mnot\u001b[39;00m validated_self:\n\u001b[0;32m    214\u001b[0m     warnings\u001b[38;5;241m.\u001b[39mwarn(\n\u001b[0;32m    215\u001b[0m         \u001b[38;5;124m'\u001b[39m\u001b[38;5;124mA custom validator is returning a value other than `self`.\u001b[39m\u001b[38;5;130;01m\\n\u001b[39;00m\u001b[38;5;124m'\u001b[39m\n\u001b[0;32m    216\u001b[0m         \u001b[38;5;124m\"\u001b[39m\u001b[38;5;124mReturning anything other than `self` from a top level model validator isn\u001b[39m\u001b[38;5;124m'\u001b[39m\u001b[38;5;124mt supported when validating via `__init__`.\u001b[39m\u001b[38;5;130;01m\\n\u001b[39;00m\u001b[38;5;124m\"\u001b[39m\n\u001b[0;32m    217\u001b[0m         \u001b[38;5;124m'\u001b[39m\u001b[38;5;124mSee the `model_validator` docs (https://docs.pydantic.dev/latest/concepts/validators/#model-validators) for more details.\u001b[39m\u001b[38;5;124m'\u001b[39m,\n\u001b[0;32m    218\u001b[0m         category\u001b[38;5;241m=\u001b[39m\u001b[38;5;28;01mNone\u001b[39;00m,\n\u001b[0;32m    219\u001b[0m     )\n",
      "\u001b[1;31mValidationError\u001b[0m: 1 validation error for Employee\nemp_id\n  Input should be a valid integer, got a number with a fractional part [type=int_from_float, input_value=12.34, input_type=float]\n    For further information visit https://errors.pydantic.dev/2.9/v/int_from_float"
     ]
    }
   ],
   "source": [
    "from pydantic import BaseModel, Field\n",
    "class Employee(BaseModel):\n",
    "    emp_id: int\n",
    "        \n",
    "Employee(emp_id=12)\n",
    "Employee(emp_id=12.34)"
   ]
  },
  {
   "cell_type": "code",
   "execution_count": 35,
   "id": "066da25e",
   "metadata": {},
   "outputs": [
    {
     "name": "stdout",
     "output_type": "stream",
     "text": [
      "emp_id=12\n",
      "emp_id=12.34\n"
     ]
    }
   ],
   "source": [
    "from pydantic import BaseModel, Field\n",
    "class Employee(BaseModel):\n",
    "    emp_id: int|float\n",
    "        \n",
    "print(Employee(emp_id=12))\n",
    "print(Employee(emp_id=12.34))"
   ]
  },
  {
   "cell_type": "code",
   "execution_count": 36,
   "id": "7459d5df",
   "metadata": {},
   "outputs": [
    {
     "name": "stdout",
     "output_type": "stream",
     "text": [
      "emp_id=12\n",
      "emp_id=12.34\n",
      "emp_id=0\n"
     ]
    }
   ],
   "source": [
    "from pydantic import BaseModel, Field\n",
    "class Employee(BaseModel):\n",
    "    emp_id: int|float=0\n",
    "        \n",
    "print(Employee(emp_id=12))\n",
    "print(Employee(emp_id=12.34))\n",
    "print(Employee())"
   ]
  },
  {
   "cell_type": "code",
   "execution_count": 37,
   "id": "4a442c22",
   "metadata": {},
   "outputs": [
    {
     "name": "stdout",
     "output_type": "stream",
     "text": [
      "emp_id=12\n",
      "emp_id=12.34\n",
      "emp_id=None\n"
     ]
    }
   ],
   "source": [
    "from pydantic import BaseModel, Field\n",
    "class Employee(BaseModel):\n",
    "    emp_id: int|float=None\n",
    "        \n",
    "print(Employee(emp_id=12))\n",
    "print(Employee(emp_id=12.34))\n",
    "print(Employee())"
   ]
  },
  {
   "cell_type": "code",
   "execution_count": 40,
   "id": "14ebf55f",
   "metadata": {},
   "outputs": [
    {
     "name": "stdout",
     "output_type": "stream",
     "text": [
      "emp_id=12\n",
      "emp_id=12.34\n",
      "emp_id=None\n"
     ]
    },
    {
     "ename": "ValidationError",
     "evalue": "2 validation errors for Employee\nemp_id.int\n  Input should be a valid integer [type=int_type, input_value=None, input_type=NoneType]\n    For further information visit https://errors.pydantic.dev/2.9/v/int_type\nemp_id.float\n  Input should be a valid number [type=float_type, input_value=None, input_type=NoneType]\n    For further information visit https://errors.pydantic.dev/2.9/v/float_type",
     "output_type": "error",
     "traceback": [
      "\u001b[1;31m---------------------------------------------------------------------------\u001b[0m",
      "\u001b[1;31mValidationError\u001b[0m                           Traceback (most recent call last)",
      "Cell \u001b[1;32mIn[40], line 8\u001b[0m\n\u001b[0;32m      6\u001b[0m \u001b[38;5;28mprint\u001b[39m(Employee(emp_id\u001b[38;5;241m=\u001b[39m\u001b[38;5;241m12.34\u001b[39m))\n\u001b[0;32m      7\u001b[0m \u001b[38;5;28mprint\u001b[39m(Employee())\n\u001b[1;32m----> 8\u001b[0m \u001b[38;5;28mprint\u001b[39m(Employee(emp_id\u001b[38;5;241m=\u001b[39m\u001b[38;5;28;01mNone\u001b[39;00m))\n",
      "File \u001b[1;32m~\\anaconda3\\Lib\\site-packages\\pydantic\\main.py:212\u001b[0m, in \u001b[0;36mBaseModel.__init__\u001b[1;34m(self, **data)\u001b[0m\n\u001b[0;32m    210\u001b[0m \u001b[38;5;66;03m# `__tracebackhide__` tells pytest and some other tools to omit this function from tracebacks\u001b[39;00m\n\u001b[0;32m    211\u001b[0m __tracebackhide__ \u001b[38;5;241m=\u001b[39m \u001b[38;5;28;01mTrue\u001b[39;00m\n\u001b[1;32m--> 212\u001b[0m validated_self \u001b[38;5;241m=\u001b[39m \u001b[38;5;28mself\u001b[39m\u001b[38;5;241m.\u001b[39m__pydantic_validator__\u001b[38;5;241m.\u001b[39mvalidate_python(data, self_instance\u001b[38;5;241m=\u001b[39m\u001b[38;5;28mself\u001b[39m)\n\u001b[0;32m    213\u001b[0m \u001b[38;5;28;01mif\u001b[39;00m \u001b[38;5;28mself\u001b[39m \u001b[38;5;129;01mis\u001b[39;00m \u001b[38;5;129;01mnot\u001b[39;00m validated_self:\n\u001b[0;32m    214\u001b[0m     warnings\u001b[38;5;241m.\u001b[39mwarn(\n\u001b[0;32m    215\u001b[0m         \u001b[38;5;124m'\u001b[39m\u001b[38;5;124mA custom validator is returning a value other than `self`.\u001b[39m\u001b[38;5;130;01m\\n\u001b[39;00m\u001b[38;5;124m'\u001b[39m\n\u001b[0;32m    216\u001b[0m         \u001b[38;5;124m\"\u001b[39m\u001b[38;5;124mReturning anything other than `self` from a top level model validator isn\u001b[39m\u001b[38;5;124m'\u001b[39m\u001b[38;5;124mt supported when validating via `__init__`.\u001b[39m\u001b[38;5;130;01m\\n\u001b[39;00m\u001b[38;5;124m\"\u001b[39m\n\u001b[0;32m    217\u001b[0m         \u001b[38;5;124m'\u001b[39m\u001b[38;5;124mSee the `model_validator` docs (https://docs.pydantic.dev/latest/concepts/validators/#model-validators) for more details.\u001b[39m\u001b[38;5;124m'\u001b[39m,\n\u001b[0;32m    218\u001b[0m         category\u001b[38;5;241m=\u001b[39m\u001b[38;5;28;01mNone\u001b[39;00m,\n\u001b[0;32m    219\u001b[0m     )\n",
      "\u001b[1;31mValidationError\u001b[0m: 2 validation errors for Employee\nemp_id.int\n  Input should be a valid integer [type=int_type, input_value=None, input_type=NoneType]\n    For further information visit https://errors.pydantic.dev/2.9/v/int_type\nemp_id.float\n  Input should be a valid number [type=float_type, input_value=None, input_type=NoneType]\n    For further information visit https://errors.pydantic.dev/2.9/v/float_type"
     ]
    }
   ],
   "source": [
    "from pydantic import BaseModel, Field\n",
    "class Employee(BaseModel):\n",
    "    emp_id: int|float=None\n",
    "        \n",
    "print(Employee(emp_id=12))\n",
    "print(Employee(emp_id=12.34))\n",
    "print(Employee())\n",
    "print(Employee(emp_id=None))"
   ]
  },
  {
   "cell_type": "code",
   "execution_count": 41,
   "id": "3d43bd0f",
   "metadata": {},
   "outputs": [
    {
     "name": "stdout",
     "output_type": "stream",
     "text": [
      "emp_id=12\n",
      "emp_id=12.34\n",
      "emp_id=12\n",
      "emp_id=12\n"
     ]
    }
   ],
   "source": [
    "from pydantic import BaseModel, Field\n",
    "class Employee(BaseModel):\n",
    "    emp_id: int|float=12\n",
    "        \n",
    "print(Employee(emp_id=12))\n",
    "print(Employee(emp_id=12.34))\n",
    "print(Employee())\n",
    "print(Employee(emp_id=12))"
   ]
  },
  {
   "cell_type": "code",
   "execution_count": 42,
   "id": "14186b49",
   "metadata": {},
   "outputs": [
    {
     "name": "stdout",
     "output_type": "stream",
     "text": [
      "emp_id=12\n",
      "emp_id=12.34\n",
      "emp_id=None\n"
     ]
    },
    {
     "ename": "ValidationError",
     "evalue": "2 validation errors for Employee\nemp_id.int\n  Input should be a valid integer [type=int_type, input_value=None, input_type=NoneType]\n    For further information visit https://errors.pydantic.dev/2.9/v/int_type\nemp_id.float\n  Input should be a valid number [type=float_type, input_value=None, input_type=NoneType]\n    For further information visit https://errors.pydantic.dev/2.9/v/float_type",
     "output_type": "error",
     "traceback": [
      "\u001b[1;31m---------------------------------------------------------------------------\u001b[0m",
      "\u001b[1;31mValidationError\u001b[0m                           Traceback (most recent call last)",
      "Cell \u001b[1;32mIn[42], line 8\u001b[0m\n\u001b[0;32m      6\u001b[0m \u001b[38;5;28mprint\u001b[39m(Employee(emp_id\u001b[38;5;241m=\u001b[39m\u001b[38;5;241m12.34\u001b[39m))\n\u001b[0;32m      7\u001b[0m \u001b[38;5;28mprint\u001b[39m(Employee())\n\u001b[1;32m----> 8\u001b[0m \u001b[38;5;28mprint\u001b[39m(Employee(emp_id\u001b[38;5;241m=\u001b[39m\u001b[38;5;28;01mNone\u001b[39;00m))\n",
      "File \u001b[1;32m~\\anaconda3\\Lib\\site-packages\\pydantic\\main.py:212\u001b[0m, in \u001b[0;36mBaseModel.__init__\u001b[1;34m(self, **data)\u001b[0m\n\u001b[0;32m    210\u001b[0m \u001b[38;5;66;03m# `__tracebackhide__` tells pytest and some other tools to omit this function from tracebacks\u001b[39;00m\n\u001b[0;32m    211\u001b[0m __tracebackhide__ \u001b[38;5;241m=\u001b[39m \u001b[38;5;28;01mTrue\u001b[39;00m\n\u001b[1;32m--> 212\u001b[0m validated_self \u001b[38;5;241m=\u001b[39m \u001b[38;5;28mself\u001b[39m\u001b[38;5;241m.\u001b[39m__pydantic_validator__\u001b[38;5;241m.\u001b[39mvalidate_python(data, self_instance\u001b[38;5;241m=\u001b[39m\u001b[38;5;28mself\u001b[39m)\n\u001b[0;32m    213\u001b[0m \u001b[38;5;28;01mif\u001b[39;00m \u001b[38;5;28mself\u001b[39m \u001b[38;5;129;01mis\u001b[39;00m \u001b[38;5;129;01mnot\u001b[39;00m validated_self:\n\u001b[0;32m    214\u001b[0m     warnings\u001b[38;5;241m.\u001b[39mwarn(\n\u001b[0;32m    215\u001b[0m         \u001b[38;5;124m'\u001b[39m\u001b[38;5;124mA custom validator is returning a value other than `self`.\u001b[39m\u001b[38;5;130;01m\\n\u001b[39;00m\u001b[38;5;124m'\u001b[39m\n\u001b[0;32m    216\u001b[0m         \u001b[38;5;124m\"\u001b[39m\u001b[38;5;124mReturning anything other than `self` from a top level model validator isn\u001b[39m\u001b[38;5;124m'\u001b[39m\u001b[38;5;124mt supported when validating via `__init__`.\u001b[39m\u001b[38;5;130;01m\\n\u001b[39;00m\u001b[38;5;124m\"\u001b[39m\n\u001b[0;32m    217\u001b[0m         \u001b[38;5;124m'\u001b[39m\u001b[38;5;124mSee the `model_validator` docs (https://docs.pydantic.dev/latest/concepts/validators/#model-validators) for more details.\u001b[39m\u001b[38;5;124m'\u001b[39m,\n\u001b[0;32m    218\u001b[0m         category\u001b[38;5;241m=\u001b[39m\u001b[38;5;28;01mNone\u001b[39;00m,\n\u001b[0;32m    219\u001b[0m     )\n",
      "\u001b[1;31mValidationError\u001b[0m: 2 validation errors for Employee\nemp_id.int\n  Input should be a valid integer [type=int_type, input_value=None, input_type=NoneType]\n    For further information visit https://errors.pydantic.dev/2.9/v/int_type\nemp_id.float\n  Input should be a valid number [type=float_type, input_value=None, input_type=NoneType]\n    For further information visit https://errors.pydantic.dev/2.9/v/float_type"
     ]
    }
   ],
   "source": [
    "from pydantic import BaseModel, Field\n",
    "class Employee(BaseModel):\n",
    "    emp_id: int|float=None\n",
    "        \n",
    "print(Employee(emp_id=12))\n",
    "print(Employee(emp_id=12.34))\n",
    "print(Employee())\n",
    "print(Employee(emp_id=None))"
   ]
  },
  {
   "cell_type": "code",
   "execution_count": 44,
   "id": "72d873eb",
   "metadata": {},
   "outputs": [
    {
     "name": "stdout",
     "output_type": "stream",
     "text": [
      "emp_id=12\n",
      "emp_id=12.34\n",
      "emp_id=None\n"
     ]
    },
    {
     "ename": "ValidationError",
     "evalue": "2 validation errors for Employee\nemp_id.int\n  Input should be a valid integer [type=int_type, input_value=None, input_type=NoneType]\n    For further information visit https://errors.pydantic.dev/2.9/v/int_type\nemp_id.float\n  Input should be a valid number [type=float_type, input_value=None, input_type=NoneType]\n    For further information visit https://errors.pydantic.dev/2.9/v/float_type",
     "output_type": "error",
     "traceback": [
      "\u001b[1;31m---------------------------------------------------------------------------\u001b[0m",
      "\u001b[1;31mValidationError\u001b[0m                           Traceback (most recent call last)",
      "Cell \u001b[1;32mIn[44], line 9\u001b[0m\n\u001b[0;32m      7\u001b[0m \u001b[38;5;28mprint\u001b[39m(Employee(emp_id\u001b[38;5;241m=\u001b[39m\u001b[38;5;241m12.34\u001b[39m))\n\u001b[0;32m      8\u001b[0m \u001b[38;5;28mprint\u001b[39m(Employee())\n\u001b[1;32m----> 9\u001b[0m \u001b[38;5;28mprint\u001b[39m(Employee(emp_id\u001b[38;5;241m=\u001b[39m\u001b[38;5;28;01mNone\u001b[39;00m))\n",
      "File \u001b[1;32m~\\anaconda3\\Lib\\site-packages\\pydantic\\main.py:212\u001b[0m, in \u001b[0;36mBaseModel.__init__\u001b[1;34m(self, **data)\u001b[0m\n\u001b[0;32m    210\u001b[0m \u001b[38;5;66;03m# `__tracebackhide__` tells pytest and some other tools to omit this function from tracebacks\u001b[39;00m\n\u001b[0;32m    211\u001b[0m __tracebackhide__ \u001b[38;5;241m=\u001b[39m \u001b[38;5;28;01mTrue\u001b[39;00m\n\u001b[1;32m--> 212\u001b[0m validated_self \u001b[38;5;241m=\u001b[39m \u001b[38;5;28mself\u001b[39m\u001b[38;5;241m.\u001b[39m__pydantic_validator__\u001b[38;5;241m.\u001b[39mvalidate_python(data, self_instance\u001b[38;5;241m=\u001b[39m\u001b[38;5;28mself\u001b[39m)\n\u001b[0;32m    213\u001b[0m \u001b[38;5;28;01mif\u001b[39;00m \u001b[38;5;28mself\u001b[39m \u001b[38;5;129;01mis\u001b[39;00m \u001b[38;5;129;01mnot\u001b[39;00m validated_self:\n\u001b[0;32m    214\u001b[0m     warnings\u001b[38;5;241m.\u001b[39mwarn(\n\u001b[0;32m    215\u001b[0m         \u001b[38;5;124m'\u001b[39m\u001b[38;5;124mA custom validator is returning a value other than `self`.\u001b[39m\u001b[38;5;130;01m\\n\u001b[39;00m\u001b[38;5;124m'\u001b[39m\n\u001b[0;32m    216\u001b[0m         \u001b[38;5;124m\"\u001b[39m\u001b[38;5;124mReturning anything other than `self` from a top level model validator isn\u001b[39m\u001b[38;5;124m'\u001b[39m\u001b[38;5;124mt supported when validating via `__init__`.\u001b[39m\u001b[38;5;130;01m\\n\u001b[39;00m\u001b[38;5;124m\"\u001b[39m\n\u001b[0;32m    217\u001b[0m         \u001b[38;5;124m'\u001b[39m\u001b[38;5;124mSee the `model_validator` docs (https://docs.pydantic.dev/latest/concepts/validators/#model-validators) for more details.\u001b[39m\u001b[38;5;124m'\u001b[39m,\n\u001b[0;32m    218\u001b[0m         category\u001b[38;5;241m=\u001b[39m\u001b[38;5;28;01mNone\u001b[39;00m,\n\u001b[0;32m    219\u001b[0m     )\n",
      "\u001b[1;31mValidationError\u001b[0m: 2 validation errors for Employee\nemp_id.int\n  Input should be a valid integer [type=int_type, input_value=None, input_type=NoneType]\n    For further information visit https://errors.pydantic.dev/2.9/v/int_type\nemp_id.float\n  Input should be a valid number [type=float_type, input_value=None, input_type=NoneType]\n    For further information visit https://errors.pydantic.dev/2.9/v/float_type"
     ]
    }
   ],
   "source": [
    "from pydantic import BaseModel, Field\n",
    "from typing import Union\n",
    "class Employee(BaseModel):\n",
    "    emp_id: Union[int, float]=None # int | float\n",
    "    department_id: int = Field(gt=0, le=200)\n",
    "        \n",
    "print(Employee(emp_id=12))\n",
    "print(Employee(emp_id=12.34))\n",
    "print(Employee())\n",
    "print(Employee(emp_id=None))"
   ]
  },
  {
   "cell_type": "code",
   "execution_count": 45,
   "id": "7fe6cfe0",
   "metadata": {},
   "outputs": [
    {
     "name": "stdout",
     "output_type": "stream",
     "text": [
      "emp_id=12 department_id=20\n"
     ]
    }
   ],
   "source": [
    "from pydantic import BaseModel, Field\n",
    "from typing import Union\n",
    "class Employee(BaseModel):\n",
    "    emp_id: Union[int, float]=None # int | float\n",
    "    department_id: int = Field(gt=0, le=200)\n",
    "        \n",
    "print(Employee(emp_id=12, department_id=20))\n"
   ]
  },
  {
   "cell_type": "code",
   "execution_count": 46,
   "id": "f8607df2",
   "metadata": {},
   "outputs": [
    {
     "name": "stdout",
     "output_type": "stream",
     "text": [
      "emp_id=12 department_id=20\n"
     ]
    },
    {
     "ename": "ValidationError",
     "evalue": "1 validation error for Employee\ndepartment_id\n  Input should be less than or equal to 200 [type=less_than_equal, input_value=201, input_type=int]\n    For further information visit https://errors.pydantic.dev/2.9/v/less_than_equal",
     "output_type": "error",
     "traceback": [
      "\u001b[1;31m---------------------------------------------------------------------------\u001b[0m",
      "\u001b[1;31mValidationError\u001b[0m                           Traceback (most recent call last)",
      "Cell \u001b[1;32mIn[46], line 8\u001b[0m\n\u001b[0;32m      5\u001b[0m     department_id: \u001b[38;5;28mint\u001b[39m \u001b[38;5;241m=\u001b[39m Field(gt\u001b[38;5;241m=\u001b[39m\u001b[38;5;241m0\u001b[39m, le\u001b[38;5;241m=\u001b[39m\u001b[38;5;241m200\u001b[39m)\n\u001b[0;32m      7\u001b[0m \u001b[38;5;28mprint\u001b[39m(Employee(emp_id\u001b[38;5;241m=\u001b[39m\u001b[38;5;241m12\u001b[39m, department_id\u001b[38;5;241m=\u001b[39m\u001b[38;5;241m20\u001b[39m))\n\u001b[1;32m----> 8\u001b[0m \u001b[38;5;28mprint\u001b[39m(Employee(emp_id\u001b[38;5;241m=\u001b[39m\u001b[38;5;241m12\u001b[39m, department_id\u001b[38;5;241m=\u001b[39m\u001b[38;5;241m201\u001b[39m))\n",
      "File \u001b[1;32m~\\anaconda3\\Lib\\site-packages\\pydantic\\main.py:212\u001b[0m, in \u001b[0;36mBaseModel.__init__\u001b[1;34m(self, **data)\u001b[0m\n\u001b[0;32m    210\u001b[0m \u001b[38;5;66;03m# `__tracebackhide__` tells pytest and some other tools to omit this function from tracebacks\u001b[39;00m\n\u001b[0;32m    211\u001b[0m __tracebackhide__ \u001b[38;5;241m=\u001b[39m \u001b[38;5;28;01mTrue\u001b[39;00m\n\u001b[1;32m--> 212\u001b[0m validated_self \u001b[38;5;241m=\u001b[39m \u001b[38;5;28mself\u001b[39m\u001b[38;5;241m.\u001b[39m__pydantic_validator__\u001b[38;5;241m.\u001b[39mvalidate_python(data, self_instance\u001b[38;5;241m=\u001b[39m\u001b[38;5;28mself\u001b[39m)\n\u001b[0;32m    213\u001b[0m \u001b[38;5;28;01mif\u001b[39;00m \u001b[38;5;28mself\u001b[39m \u001b[38;5;129;01mis\u001b[39;00m \u001b[38;5;129;01mnot\u001b[39;00m validated_self:\n\u001b[0;32m    214\u001b[0m     warnings\u001b[38;5;241m.\u001b[39mwarn(\n\u001b[0;32m    215\u001b[0m         \u001b[38;5;124m'\u001b[39m\u001b[38;5;124mA custom validator is returning a value other than `self`.\u001b[39m\u001b[38;5;130;01m\\n\u001b[39;00m\u001b[38;5;124m'\u001b[39m\n\u001b[0;32m    216\u001b[0m         \u001b[38;5;124m\"\u001b[39m\u001b[38;5;124mReturning anything other than `self` from a top level model validator isn\u001b[39m\u001b[38;5;124m'\u001b[39m\u001b[38;5;124mt supported when validating via `__init__`.\u001b[39m\u001b[38;5;130;01m\\n\u001b[39;00m\u001b[38;5;124m\"\u001b[39m\n\u001b[0;32m    217\u001b[0m         \u001b[38;5;124m'\u001b[39m\u001b[38;5;124mSee the `model_validator` docs (https://docs.pydantic.dev/latest/concepts/validators/#model-validators) for more details.\u001b[39m\u001b[38;5;124m'\u001b[39m,\n\u001b[0;32m    218\u001b[0m         category\u001b[38;5;241m=\u001b[39m\u001b[38;5;28;01mNone\u001b[39;00m,\n\u001b[0;32m    219\u001b[0m     )\n",
      "\u001b[1;31mValidationError\u001b[0m: 1 validation error for Employee\ndepartment_id\n  Input should be less than or equal to 200 [type=less_than_equal, input_value=201, input_type=int]\n    For further information visit https://errors.pydantic.dev/2.9/v/less_than_equal"
     ]
    }
   ],
   "source": [
    "from pydantic import BaseModel, Field\n",
    "from typing import Union\n",
    "class Employee(BaseModel):\n",
    "    emp_id: Union[int, float]=None # int | float\n",
    "    department_id: int = Field(gt=0, le=200)\n",
    "        \n",
    "print(Employee(emp_id=12, department_id=20))\n",
    "print(Employee(emp_id=12, department_id=201))\n"
   ]
  },
  {
   "cell_type": "code",
   "execution_count": 47,
   "id": "73d97859",
   "metadata": {},
   "outputs": [
    {
     "name": "stdout",
     "output_type": "stream",
     "text": [
      "emp_id=12 department_id=20\n",
      "emp_id=12 department_id=300\n"
     ]
    }
   ],
   "source": [
    "from pydantic import BaseModel, Field\n",
    "from typing import Union\n",
    "class Employee(BaseModel):\n",
    "    emp_id: Union[int, float]=None # int | float\n",
    "    department_id: int = Field(gt=0, le=200, default=300)\n",
    "        \n",
    "print(Employee(emp_id=12, department_id=20))\n",
    "print(Employee(emp_id=12))\n"
   ]
  },
  {
   "cell_type": "code",
   "execution_count": 48,
   "id": "39aac38e",
   "metadata": {},
   "outputs": [
    {
     "name": "stdout",
     "output_type": "stream",
     "text": [
      "emp_id=12 department_id=150\n",
      "emp_id=12 department_id=150\n"
     ]
    }
   ],
   "source": [
    "from pydantic import BaseModel, Field\n",
    "from typing import Union\n",
    "class Employee(BaseModel):\n",
    "    emp_id: Union[int, float]=None # int | float\n",
    "    department_id: int = Field(gt=0, le=200, default=150)\n",
    "        \n",
    "print(Employee(emp_id=12))\n",
    "print(Employee(emp_id=12, department_id=150))\n"
   ]
  },
  {
   "cell_type": "code",
   "execution_count": 51,
   "id": "35ae60f0",
   "metadata": {},
   "outputs": [
    {
     "name": "stdout",
     "output_type": "stream",
     "text": [
      "name='prod1' cost=12.0\n",
      "name='prod2' cost=0.0\n",
      "name='prod3' cost=None\n"
     ]
    }
   ],
   "source": [
    "from pydantic import BaseModel, Field\n",
    "class Product(BaseModel):\n",
    "    name: str\n",
    "    cost: float = None\n",
    "    \n",
    "print(Product(name=\"prod1\",cost=12))\n",
    "print(Product(name=\"prod2\",cost=0.0))\n",
    "print(Product(name=\"prod3\"))\n"
   ]
  },
  {
   "cell_type": "code",
   "execution_count": null,
   "id": "4675eca7",
   "metadata": {},
   "outputs": [],
   "source": []
  }
 ],
 "metadata": {
  "kernelspec": {
   "display_name": "Python 3 (ipykernel)",
   "language": "python",
   "name": "python3"
  },
  "language_info": {
   "codemirror_mode": {
    "name": "ipython",
    "version": 3
   },
   "file_extension": ".py",
   "mimetype": "text/x-python",
   "name": "python",
   "nbconvert_exporter": "python",
   "pygments_lexer": "ipython3",
   "version": "3.11.3"
  }
 },
 "nbformat": 4,
 "nbformat_minor": 5
}
