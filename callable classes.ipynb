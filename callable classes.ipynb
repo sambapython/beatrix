{
 "cells": [
  {
   "cell_type": "code",
   "execution_count": 1,
   "id": "877e1ed0",
   "metadata": {},
   "outputs": [
    {
     "ename": "TypeError",
     "evalue": "'Employee' object is not callable",
     "output_type": "error",
     "traceback": [
      "\u001b[1;31m---------------------------------------------------------------------------\u001b[0m",
      "\u001b[1;31mTypeError\u001b[0m                                 Traceback (most recent call last)",
      "Cell \u001b[1;32mIn[1], line 5\u001b[0m\n\u001b[0;32m      3\u001b[0m         \u001b[38;5;28mself\u001b[39m\u001b[38;5;241m.\u001b[39mname\u001b[38;5;241m=\u001b[39mname\n\u001b[0;32m      4\u001b[0m e1\u001b[38;5;241m=\u001b[39mEmployee(\u001b[38;5;124m\"\u001b[39m\u001b[38;5;124mAnil\u001b[39m\u001b[38;5;124m\"\u001b[39m)\n\u001b[1;32m----> 5\u001b[0m e1()\n",
      "\u001b[1;31mTypeError\u001b[0m: 'Employee' object is not callable"
     ]
    }
   ],
   "source": [
    "class Employee:\n",
    "    def __init__(self, name):\n",
    "        self.name=name\n",
    "e1=Employee(\"Anil\")\n",
    "e1()"
   ]
  },
  {
   "cell_type": "code",
   "execution_count": 2,
   "id": "99b612e7",
   "metadata": {},
   "outputs": [
    {
     "data": {
      "text/plain": [
       "'HELLO'"
      ]
     },
     "execution_count": 2,
     "metadata": {},
     "output_type": "execute_result"
    }
   ],
   "source": [
    "class Employee:\n",
    "    def __init__(self, name):\n",
    "        self.name=name\n",
    "    def __call__(self):\n",
    "        return \"HELLO\"\n",
    "e1=Employee(\"Anil\")\n",
    "e1()"
   ]
  },
  {
   "cell_type": "code",
   "execution_count": null,
   "id": "188c3720",
   "metadata": {},
   "outputs": [],
   "source": []
  }
 ],
 "metadata": {
  "kernelspec": {
   "display_name": "Python 3 (ipykernel)",
   "language": "python",
   "name": "python3"
  },
  "language_info": {
   "codemirror_mode": {
    "name": "ipython",
    "version": 3
   },
   "file_extension": ".py",
   "mimetype": "text/x-python",
   "name": "python",
   "nbconvert_exporter": "python",
   "pygments_lexer": "ipython3",
   "version": "3.11.3"
  }
 },
 "nbformat": 4,
 "nbformat_minor": 5
}
