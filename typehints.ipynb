{
 "cells": [
  {
   "cell_type": "code",
   "execution_count": 4,
   "id": "8213bfeb",
   "metadata": {},
   "outputs": [
    {
     "name": "stdout",
     "output_type": "stream",
     "text": [
      "fsfs\n"
     ]
    }
   ],
   "source": [
    "def fun(a: int, b: float) -> float():\n",
    "    res= a+b\n",
    "    return \"fsfs\"\n",
    "r1=fun(\"sdfs\",\"dsfdsf\")\n",
    "print(r1)"
   ]
  },
  {
   "cell_type": "code",
   "execution_count": null,
   "id": "be678131",
   "metadata": {},
   "outputs": [],
   "source": [
    "def fun(a: int, b: float) -> float():\n",
    "    res= a+b\n",
    "    a.\n",
    "    return \"fsfs\"\n",
    "r1=fun(12,12.3)"
   ]
  }
 ],
 "metadata": {
  "kernelspec": {
   "display_name": "Python 3 (ipykernel)",
   "language": "python",
   "name": "python3"
  },
  "language_info": {
   "codemirror_mode": {
    "name": "ipython",
    "version": 3
   },
   "file_extension": ".py",
   "mimetype": "text/x-python",
   "name": "python",
   "nbconvert_exporter": "python",
   "pygments_lexer": "ipython3",
   "version": "3.11.3"
  }
 },
 "nbformat": 4,
 "nbformat_minor": 5
}
